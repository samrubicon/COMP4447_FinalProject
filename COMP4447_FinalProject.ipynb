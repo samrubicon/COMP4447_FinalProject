{
 "cells": [
  {
   "cell_type": "code",
   "execution_count": 16,
   "metadata": {},
   "outputs": [],
   "source": [
    "from bs4 import BeautifulSoup as bsoup\n",
    "import urllib.robotparser\n",
    "import requests\n",
    "import pandas as pd\n",
    "import numpy as np\n",
    "from pprint import pprint\n",
    "from selenium import webdriver\n",
    "import time"
   ]
  },
  {
   "cell_type": "code",
   "execution_count": 17,
   "metadata": {},
   "outputs": [
    {
     "name": "stderr",
     "output_type": "stream",
     "text": [
      "\n",
      "\n",
      "====== WebDriver manager ======\n",
      "Current firefox version is 1 cannot be loaded. \n",
      "Get LATEST driver version for 1 cannot be loaded. \n",
      "Driver [C:\\Users\\Sam\\.wdm\\drivers\\geckodriver\\win64\\v0.29.1\\geckodriver.exe] found in cache\n"
     ]
    }
   ],
   "source": [
    "# Import GeckoDriverManager module.\n",
    "from webdriver_manager.firefox import GeckoDriverManager\n",
    "# Install the GeckoDriverManager to run FireFox web browser.\n",
    "driver = webdriver.Firefox(executable_path=GeckoDriverManager().install())"
   ]
  },
  {
   "cell_type": "code",
   "execution_count": 6,
   "metadata": {},
   "outputs": [],
   "source": [
    "# formats to scrape, based on Bandcamp URL options\n",
    "FORMATS = ['all',\n",
    "           'digital',\n",
    "           'vinyl',\n",
    "           'cd',\n",
    "           'cassette']\n",
    "\n",
    "# search categories\n",
    "#   top = best-selling\n",
    "#   new = new arrivals\n",
    "#   rec = artist-recommended\n",
    "SEARCH_CATEGORIES = ['top','new','rec']\n",
    "\n",
    "# scrape dataframe\n",
    "scrape_data = pd.DataFrame(columns=['Release Title', \n",
    "                                    'Artist Name', \n",
    "                                    'Artist Location',\n",
    "                                    'Release Date',\n",
    "                                    'Release URL',\n",
    "                                    'Release Genre',\n",
    "                                    'Release Sub-Genre',\n",
    "                                    'Track Information',\n",
    "                                    'Fan Popularity Score',\n",
    "                                    'Album Tags'])\n",
    "\n",
    "# dictionary entry for track listing\n",
    "track_info_entry = {\n",
    "    'Track Title' : '',\n",
    "    'Track Lyrics' : '',\n",
    "    'Track Number' : '',\n",
    "    'Track Duration': ''\n",
    "}"
   ]
  },
  {
   "cell_type": "code",
   "execution_count": 7,
   "metadata": {},
   "outputs": [],
   "source": [
    "# scrape bandcamp release page function\n",
    "def scrape_release_page(URL):\n",
    "    \n",
    "    pass"
   ]
  },
  {
   "cell_type": "code",
   "execution_count": 34,
   "metadata": {},
   "outputs": [],
   "source": [
    "# scrape search page function\n",
    "def scrape_search_page(URL):\n",
    "\n",
    "    driver.get(URL)\n",
    "    \n",
    "    # this is just to ensure that the page is loaded\n",
    "    time.sleep(1) \n",
    "    html = driver.page_source\n",
    "\n",
    "    # create bsoup object\n",
    "    soup = bsoup(str(html), 'lxml')    \n",
    "\n",
    "    # find album link tags on this page\n",
    "    link_tags = soup.find_all('a', {'class':'item-title'})\n",
    "\n",
    "    # extract URLs from link tags\n",
    "    release_URLS = []\n",
    "    for tag in link_tags:\n",
    "        release_URLS.append(tag['href'])\n",
    "    \n",
    "    for release_URL in release_URLS:\n",
    "        scrape_release_page(release_URL)\n",
    "    \n",
    "    #if response.status_code == 200:\n",
    "    #    print(URL)\n",
    "    #    soup = bsoup(response.text, 'lxml')\n",
    "    #    pprint(soup)"
   ]
  },
  {
   "cell_type": "code",
   "execution_count": 9,
   "metadata": {},
   "outputs": [],
   "source": [
    "###################### INPUTS ################################\n",
    "\n",
    "# list of genres to scrape\n",
    "genres = ['all','rock']\n",
    "\n",
    "# scrape for subgenres within genres?\n",
    "scrape_subgenres = True\n",
    "\n",
    "# dictionary of subgenres to scrape, if scrape_subgenres = True\n",
    "SUBGENRES = {\n",
    "                'rock': ['all','indie','prog-rock','post-rock','rock-roll','psychedelic-rock'],\n",
    "                'metal': [],\n",
    "                'alternative': [],\n",
    "                'hip-hop-rap': [],\n",
    "                'experimental': [],\n",
    "                'punk': [],\n",
    "                'folk': [],\n",
    "                'pop': [],\n",
    "                'acoustic': [],\n",
    "                'funk': [],\n",
    "                'country': [],\n",
    "                'blues': []\n",
    "            }\n",
    "\n",
    "# list of search categories to scrape\n",
    "search_categories = ['top']\n",
    "\n",
    "# list of locations to scrape\n",
    "# location = 0 returns search results for all locations\n",
    "locations = [0] \n",
    "\n",
    "# list of formats to scrape\n",
    "formats = ['all']\n",
    "\n",
    "# number of pages to scrape\n",
    "pages = 10 \n",
    "\n",
    "###########################################################\n"
   ]
  },
  {
   "cell_type": "code",
   "execution_count": 35,
   "metadata": {},
   "outputs": [
    {
     "name": "stdout",
     "output_type": "stream",
     "text": [
      "['https://cherubs.bandcamp.com/album/slo-blo-4-frnz-sxy?from=discover-top',\n",
      " 'https://newretrowave.bandcamp.com/album/love-kills-the-demon?from=discover-top',\n",
      " 'https://cuedotrecords.bandcamp.com/album/ash-dome?from=discover-top',\n",
      " 'https://tossportal.bandcamp.com/album/still-slipping-vol-1?from=discover-top',\n",
      " 'https://boniver.bandcamp.com/album/bon-iver-10th-anniversary-edition?from=discover-top',\n",
      " 'https://creepingdeathtx.bandcamp.com/album/the-edge-of-existence?from=discover-top',\n",
      " 'https://orangemilkrecords.bandcamp.com/album/wlfgrl-vinyl?from=discover-top',\n",
      " 'https://pakt-moonjune.bandcamp.com/album/pakt-live-in-kennett-square?from=discover-top']\n",
      "['https://cherubs.bandcamp.com/album/slo-blo-4-frnz-sxy?from=discover-top',\n",
      " 'https://wednesdayband.bandcamp.com/album/twin-plagues-2?from=discover-top',\n",
      " 'https://quicksandnyc.bandcamp.com/album/distant-populations?from=discover-top',\n",
      " 'https://selbalamir.bandcamp.com/album/swell?from=discover-top',\n",
      " 'https://tysegall.bandcamp.com/album/harmonizer?from=discover-top',\n",
      " 'https://kingwoman.bandcamp.com/album/celestial-blues?from=discover-top',\n",
      " 'https://willlogsdon.bandcamp.com/album/will-logsdon?from=discover-top',\n",
      " 'https://deafheavens.bandcamp.com/album/infinite-granite?from=discover-top']\n"
     ]
    }
   ],
   "source": [
    "# web scraper loop\n",
    "\n",
    "for genre in genres:\n",
    "    for category in search_categories:\n",
    "        for location in locations:\n",
    "            for formatt in formats:\n",
    "                for page in range(pages):\n",
    "                    \n",
    "                    scrape_URL = 'https://bandcamp.com/?g=' + genre + '&s=' + category + '&p=' + str(page) + '&gn=' + str(location) + '&f=' + formatt\n",
    "                    scrape_search_page(scrape_URL)\n",
    "                    break\n",
    "                    \n",
    "                    if scrape_subgenres and genre in SUBGENRES:\n",
    "                        for subgenre in SUBGENRES[genre]:\n",
    "                            subgenre_scrape_URL = scrape_URL + '&t=' + subgenre\n",
    "                            scrape_search_page(subgenre_scrape_URL)           "
   ]
  },
  {
   "cell_type": "code",
   "execution_count": null,
   "metadata": {},
   "outputs": [],
   "source": []
  }
 ],
 "metadata": {
  "kernelspec": {
   "display_name": "Python 3",
   "language": "python",
   "name": "python3"
  },
  "language_info": {
   "codemirror_mode": {
    "name": "ipython",
    "version": 3
   },
   "file_extension": ".py",
   "mimetype": "text/x-python",
   "name": "python",
   "nbconvert_exporter": "python",
   "pygments_lexer": "ipython3",
   "version": "3.8.3"
  }
 },
 "nbformat": 4,
 "nbformat_minor": 5
}
